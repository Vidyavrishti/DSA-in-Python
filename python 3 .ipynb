{
 "cells": [
  {
   "cell_type": "markdown",
   "id": "cdad32de-cb1f-41a6-bd9d-211324c59a5e",
   "metadata": {},
   "source": [
    "Create a class called 'Myqueue' which can handle 1.Enqueue 2.Dequeue 3.Is empty 4.Display"
   ]
  },
  {
   "cell_type": "code",
   "execution_count": 31,
   "id": "9fefd50e-fed2-4bdb-ae4e-fefb12e3a61d",
   "metadata": {},
   "outputs": [],
   "source": [
    "class stack:\n",
    "    def __init__(self):\n",
    "        self.queue=[]\n",
    "    def Enqueue(self,item):\n",
    "        self.queue.append(item)\n",
    "    def Dequeue(self):\n",
    "        if self.queue==0:\n",
    "             self.queue.pop(0)\n",
    "        else:\n",
    "             print(\"queue is empty\")\n",
    "             self.queue.pop(0)\n",
    "        def isempty(self):\n",
    "            return len(self.queue)==0\n",
    "        def Display(self):\n",
    "             if self.queue:\n",
    "                 return self.queue\n",
    "             else:\n",
    "                 print( \" no queue to display\")\n",
    "        def size(self):\n",
    "                \n",
    "                 return len(self.queue)\n",
    "            \n",
    "        "
   ]
  },
  {
   "cell_type": "code",
   "execution_count": 27,
   "id": "68b5003b-8532-475e-9fe7-ea8cb52ca9c5",
   "metadata": {},
   "outputs": [],
   "source": [
    "a = stack()"
   ]
  },
  {
   "cell_type": "code",
   "execution_count": 32,
   "id": "e080374f-d28a-4557-9de1-a4bc7aaef71e",
   "metadata": {},
   "outputs": [],
   "source": [
    "a.Enqueue(10)\n",
    "a.Enqueue(20)\n",
    "a.Enqueue(30)\n",
    "a.Enqueue(15)"
   ]
  },
  {
   "cell_type": "code",
   "execution_count": 36,
   "id": "eb9a86dd-d21e-4658-81a4-d594db2e3a83",
   "metadata": {},
   "outputs": [
    {
     "ename": "AttributeError",
     "evalue": "'stack' object has no attribute 'Display'",
     "output_type": "error",
     "traceback": [
      "\u001b[1;31m---------------------------------------------------------------------------\u001b[0m",
      "\u001b[1;31mAttributeError\u001b[0m                            Traceback (most recent call last)",
      "Cell \u001b[1;32mIn[36], line 1\u001b[0m\n\u001b[1;32m----> 1\u001b[0m a\u001b[38;5;241m.\u001b[39mDisplay()\n",
      "\u001b[1;31mAttributeError\u001b[0m: 'stack' object has no attribute 'Display'"
     ]
    }
   ],
   "source": [
    "a.Display()"
   ]
  },
  {
   "cell_type": "code",
   "execution_count": 35,
   "id": "eacf40a3-da4d-4f18-8b46-84c53ef71a5a",
   "metadata": {},
   "outputs": [
    {
     "ename": "AttributeError",
     "evalue": "'stack' object has no attribute 'Isempty'",
     "output_type": "error",
     "traceback": [
      "\u001b[1;31m---------------------------------------------------------------------------\u001b[0m",
      "\u001b[1;31mAttributeError\u001b[0m                            Traceback (most recent call last)",
      "Cell \u001b[1;32mIn[35], line 1\u001b[0m\n\u001b[1;32m----> 1\u001b[0m a\u001b[38;5;241m.\u001b[39mIsempty\n",
      "\u001b[1;31mAttributeError\u001b[0m: 'stack' object has no attribute 'Isempty'"
     ]
    }
   ],
   "source": [
    "a.Isempty"
   ]
  },
  {
   "cell_type": "code",
   "execution_count": null,
   "id": "fc7f7fc3-7fe8-42cf-bce0-ae4262814623",
   "metadata": {},
   "outputs": [],
   "source": []
  }
 ],
 "metadata": {
  "kernelspec": {
   "display_name": "Python 3 (ipykernel)",
   "language": "python",
   "name": "python3"
  },
  "language_info": {
   "codemirror_mode": {
    "name": "ipython",
    "version": 3
   },
   "file_extension": ".py",
   "mimetype": "text/x-python",
   "name": "python",
   "nbconvert_exporter": "python",
   "pygments_lexer": "ipython3",
   "version": "3.11.7"
  }
 },
 "nbformat": 4,
 "nbformat_minor": 5
}
