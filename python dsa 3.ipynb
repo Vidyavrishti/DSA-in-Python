{
 "cells": [
  {
   "cell_type": "code",
   "execution_count": 36,
   "id": "bca1a1b8-9440-4937-8a83-e51027d24f5f",
   "metadata": {},
   "outputs": [],
   "source": [
    "class myLL:\n",
    "    class mynodes:\n",
    "        def __init__(self,data):\n",
    "            self.data=data\n",
    "            self.next=None\n",
    "    def __init__(self):\n",
    "        self.head=None\n",
    "    def insertbe(self,data):\n",
    "        new_node = myLL.mynodes(data)\n",
    "        new_node.next = self.head\n",
    "        self.head = new_node\n",
    "    def insertend(self,data):\n",
    "        new_node = myLL.mynodes(data)\n",
    "        if self.head == None:\n",
    "            self.head = new_node\n",
    "            return\n",
    "        current = self.head\n",
    "        while current.next:\n",
    "            current = current.next\n",
    "        current.next = new_node\n",
    "    def insertaft(self,data,prev_node):\n",
    "        new_node = MyLL.mynodes(data)\n",
    "        new_node.next = prev_node.next\n",
    "        prev_node.next = new_node\n",
    "    def print_LL(self):\n",
    "        current = self.head\n",
    "        while current:\n",
    "            print(current.data, end = '-->')\n",
    "            current = current.next\n",
    "    def search(self,val):\n",
    "        current = self.head\n",
    "        while current:\n",
    "            if current.data == val:\n",
    "                return True\n",
    "            current = current.next\n",
    "        return False\n",
    "    def deletefirst(self):\n",
    "        self.head = self.head.next\n",
    "    def deletend(self):\n",
    "       while current.next.next:\n",
    "           current = current.next\n",
    "    def del_by_val(self,x):\n",
    "        if self.head.data==x:\n",
    "            self.head=self=self.head.next\n",
    "        current = self.head\n",
    "        while current.next:\n",
    "            if current.next.data!=x:\n",
    "                current=current.next\n",
    "            else:\n",
    "                break\n",
    "        if current.next:\n",
    "            current.next=current.next.next\n",
    "        else:\n",
    "            return \"not found\""
   ]
  },
  {
   "cell_type": "code",
   "execution_count": 37,
   "id": "f3247d86-6c8e-4b5c-a496-b83660e372c3",
   "metadata": {},
   "outputs": [
    {
     "name": "stdout",
     "output_type": "stream",
     "text": [
      "30-->20-->10-->"
     ]
    }
   ],
   "source": [
    "m= myLL()\n",
    "m.insertbe(10)\n",
    "m.insertbe(20)\n",
    "m.insertbe(30)\n",
    "m.print_LL()\n",
    "m.deletefirst()  #deleting the first element\n"
   ]
  },
  {
   "cell_type": "code",
   "execution_count": 38,
   "id": "7a0f3cdf-71f5-4e4e-9d7d-e5c6114c6666",
   "metadata": {},
   "outputs": [
    {
     "name": "stdout",
     "output_type": "stream",
     "text": [
      "20-->10-->"
     ]
    }
   ],
   "source": [
    "m.print_LL()"
   ]
  },
  {
   "cell_type": "code",
   "execution_count": 39,
   "id": "9dff6502-4a76-4fe9-83e0-fe5b69e3f865",
   "metadata": {},
   "outputs": [
    {
     "data": {
      "text/plain": [
       "False"
      ]
     },
     "execution_count": 39,
     "metadata": {},
     "output_type": "execute_result"
    }
   ],
   "source": [
    "m.search(30)"
   ]
  },
  {
   "cell_type": "code",
   "execution_count": 40,
   "id": "945b1a9d-3d9c-4fde-bd91-fd6f279dad98",
   "metadata": {},
   "outputs": [],
   "source": [
    "m.deletefirst() "
   ]
  },
  {
   "cell_type": "code",
   "execution_count": 41,
   "id": "3ab7f05a-ce0d-4744-8017-77650f6175da",
   "metadata": {},
   "outputs": [
    {
     "name": "stdout",
     "output_type": "stream",
     "text": [
      "10-->"
     ]
    }
   ],
   "source": [
    "m.print_LL()"
   ]
  },
  {
   "cell_type": "code",
   "execution_count": 42,
   "id": "98c69acb-eb8e-43a5-bd6b-fd3a1062ae76",
   "metadata": {},
   "outputs": [],
   "source": [
    "m.insertbe(30)\n",
    "m.insertbe(20)\n",
    "m.insertbe(10)"
   ]
  },
  {
   "cell_type": "code",
   "execution_count": 43,
   "id": "8b33af22-e2cf-4310-bda5-66814a8467ee",
   "metadata": {},
   "outputs": [],
   "source": [
    "m.del_by_val(20)"
   ]
  },
  {
   "cell_type": "code",
   "execution_count": 44,
   "id": "3bd34090-8f1c-424b-a5e5-4aa8e2815903",
   "metadata": {},
   "outputs": [],
   "source": [
    "m.insertbe(30)\n",
    "m.insertbe(20)\n",
    "m.insertbe(10)"
   ]
  },
  {
   "cell_type": "code",
   "execution_count": 45,
   "id": "35eb9868-a6a4-408c-ba2b-735e0f91f7b2",
   "metadata": {},
   "outputs": [
    {
     "name": "stdout",
     "output_type": "stream",
     "text": [
      "10-->20-->30-->10-->30-->10-->"
     ]
    }
   ],
   "source": [
    "m.print_LL()"
   ]
  },
  {
   "cell_type": "code",
   "execution_count": 46,
   "id": "f5ffd1b7-bfbd-4286-b6cf-9da4ff3efd31",
   "metadata": {},
   "outputs": [
    {
     "data": {
      "text/plain": [
       "'not found'"
      ]
     },
     "execution_count": 46,
     "metadata": {},
     "output_type": "execute_result"
    }
   ],
   "source": [
    "m.del_by_val(90)"
   ]
  },
  {
   "cell_type": "code",
   "execution_count": null,
   "id": "858f411c-529a-4027-a026-2bea71a2e040",
   "metadata": {},
   "outputs": [],
   "source": []
  }
 ],
 "metadata": {
  "kernelspec": {
   "display_name": "Python 3 (ipykernel)",
   "language": "python",
   "name": "python3"
  },
  "language_info": {
   "codemirror_mode": {
    "name": "ipython",
    "version": 3
   },
   "file_extension": ".py",
   "mimetype": "text/x-python",
   "name": "python",
   "nbconvert_exporter": "python",
   "pygments_lexer": "ipython3",
   "version": "3.11.7"
  }
 },
 "nbformat": 4,
 "nbformat_minor": 5
}
