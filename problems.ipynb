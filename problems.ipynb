{
 "cells": [
  {
   "cell_type": "code",
   "execution_count": 5,
   "id": "ab3558f4-ffdb-41f2-81a8-06ff4f548650",
   "metadata": {},
   "outputs": [],
   "source": [
    "a=[1,2,1,7,6,5,4]\n",
    "def __init__(self,val):\n",
    "    self.even=[]\n",
    "    self.odd=[]\n",
    "def even (self):\n",
    "    b=self.a[i%2]==0\n",
    "    print(a)\n",
    "def odd(self,val):\n",
    "    arr=self.a[i%2]==1\n",
    "    print(a)\n",
    "\n",
    "    "
   ]
  },
  {
   "cell_type": "code",
   "execution_count": 6,
   "id": "66cd9c99-aaea-44fd-b535-6d326877f7a0",
   "metadata": {},
   "outputs": [
    {
     "name": "stdout",
     "output_type": "stream",
     "text": [
      "[1, 2, 1, 7, 6, 5, 4]\n"
     ]
    }
   ],
   "source": [
    "print(a)"
   ]
  },
  {
   "cell_type": "code",
   "execution_count": null,
   "id": "7fa6bb8f-b2f1-470a-8438-494468aa723e",
   "metadata": {},
   "outputs": [],
   "source": []
  }
 ],
 "metadata": {
  "kernelspec": {
   "display_name": "Python 3 (ipykernel)",
   "language": "python",
   "name": "python3"
  },
  "language_info": {
   "codemirror_mode": {
    "name": "ipython",
    "version": 3
   },
   "file_extension": ".py",
   "mimetype": "text/x-python",
   "name": "python",
   "nbconvert_exporter": "python",
   "pygments_lexer": "ipython3",
   "version": "3.11.7"
  }
 },
 "nbformat": 4,
 "nbformat_minor": 5
}
