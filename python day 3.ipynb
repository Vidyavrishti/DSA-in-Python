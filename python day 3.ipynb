{
 "cells": [
  {
   "cell_type": "code",
   "execution_count": 21,
   "id": "38ab90fc-1b01-4291-b2f9-0bfab44506a6",
   "metadata": {},
   "outputs": [
    {
     "data": {
      "text/plain": [
       "array([ 1,  5,  9, 13, 17, 21, 25, 29])"
      ]
     },
     "execution_count": 21,
     "metadata": {},
     "output_type": "execute_result"
    }
   ],
   "source": [
    "np.arange(1,30,4)"
   ]
  },
  {
   "cell_type": "code",
   "execution_count": 22,
   "id": "a6f63df0-5a50-4102-b6f4-1fcf7361b597",
   "metadata": {},
   "outputs": [
    {
     "data": {
      "text/plain": [
       "array([1., 5., 9.])"
      ]
     },
     "execution_count": 22,
     "metadata": {},
     "output_type": "execute_result"
    }
   ],
   "source": [
    "np.linspace(1,9,3)"
   ]
  },
  {
   "cell_type": "code",
   "execution_count": 23,
   "id": "ab8d41f5-8980-4c0b-9012-6062a0b751de",
   "metadata": {},
   "outputs": [
    {
     "data": {
      "text/plain": [
       "array([[0.74613576, 0.95589243, 0.19085146, 0.51667624, 0.09522113],\n",
       "       [0.98790395, 0.07149282, 0.68598752, 0.88695134, 0.48723188],\n",
       "       [0.7818648 , 0.40030844, 0.4792578 , 0.7591234 , 0.6596822 ],\n",
       "       [0.21195281, 0.16237468, 0.49587726, 0.42207851, 0.49423446],\n",
       "       [0.38044989, 0.08902913, 0.00475663, 0.85111695, 0.70704607]])"
      ]
     },
     "execution_count": 23,
     "metadata": {},
     "output_type": "execute_result"
    }
   ],
   "source": [
    "np.random.random((5,5))"
   ]
  },
  {
   "cell_type": "code",
   "execution_count": 24,
   "id": "7acb516d-a51e-4d05-8c05-262ce64fe5ca",
   "metadata": {},
   "outputs": [
    {
     "data": {
      "text/plain": [
       "array([[ 2.21527842, -0.27191872, -0.05511749,  1.04625586],\n",
       "       [-2.58475068,  1.1023875 ,  3.4882231 ,  2.85288196],\n",
       "       [-1.52228777, -0.0145421 ,  1.15927204, -1.18739487],\n",
       "       [-1.71265857,  1.00744502, -0.13335262,  0.52630688]])"
      ]
     },
     "execution_count": 24,
     "metadata": {},
     "output_type": "execute_result"
    }
   ],
   "source": [
    "np.random.normal(1,2,(4,4))"
   ]
  },
  {
   "cell_type": "code",
   "execution_count": 25,
   "id": "7bcf000d-54a4-421f-8007-29c17f94de3d",
   "metadata": {},
   "outputs": [
    {
     "data": {
      "text/plain": [
       "array([[10, 15,  9,  3],\n",
       "       [10,  8,  8, 14],\n",
       "       [ 4,  8,  7,  7],\n",
       "       [ 4,  3,  8, 12]])"
      ]
     },
     "execution_count": 25,
     "metadata": {},
     "output_type": "execute_result"
    }
   ],
   "source": [
    "np.random.randint(3,20,(4,4))"
   ]
  },
  {
   "cell_type": "code",
   "execution_count": 29,
   "id": "c41eaa07-5296-4afc-9072-9b835f190226",
   "metadata": {},
   "outputs": [
    {
     "data": {
      "text/plain": [
       "array([[1., 0., 0., 0., 0.],\n",
       "       [0., 1., 0., 0., 0.],\n",
       "       [0., 0., 1., 0., 0.],\n",
       "       [0., 0., 0., 1., 0.],\n",
       "       [0., 0., 0., 0., 1.]])"
      ]
     },
     "execution_count": 29,
     "metadata": {},
     "output_type": "execute_result"
    }
   ],
   "source": [
    "np.eye(5)"
   ]
  },
  {
   "cell_type": "markdown",
   "id": "75cab41f-9d1f-44c5-ac9a-a1651e05b3fb",
   "metadata": {},
   "source": [
    "np.random.seed(0)\n",
    "x1=np.random.randint(10, size=6)\n",
    "x2=np.random.randint(10, size=(3,4))\n",
    "x3=np.random.randint(10, size=(3,4,5))\n"
   ]
  },
  {
   "cell_type": "code",
   "execution_count": null,
   "id": "f8445386-b845-4370-99cc-e3e8b443250d",
   "metadata": {},
   "outputs": [],
   "source": []
  }
 ],
 "metadata": {
  "kernelspec": {
   "display_name": "Python 3 (ipykernel)",
   "language": "python",
   "name": "python3"
  },
  "language_info": {
   "codemirror_mode": {
    "name": "ipython",
    "version": 3
   },
   "file_extension": ".py",
   "mimetype": "text/x-python",
   "name": "python",
   "nbconvert_exporter": "python",
   "pygments_lexer": "ipython3",
   "version": "3.11.7"
  }
 },
 "nbformat": 4,
 "nbformat_minor": 5
}
